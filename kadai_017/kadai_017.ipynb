{
  "nbformat": 4,
  "nbformat_minor": 0,
  "metadata": {
    "colab": {
      "provenance": [],
      "gpuType": "T4"
    },
    "kernelspec": {
      "name": "python3",
      "display_name": "Python 3"
    },
    "language_info": {
      "name": "python"
    },
    "accelerator": "GPU"
  },
  "cells": [
    {
      "cell_type": "code",
      "source": [
        "class Human:\n",
        "  def __init__(self, name, age):\n",
        "    self.name = name\n",
        "    self.age = age\n",
        "\n",
        "  def check_adult(self):\n",
        "    if self.age >= 20:\n",
        "      print(f\"{self.name}は大人である({self.age}才)\")\n",
        "    else:\n",
        "      print(f\"{self.name}は大人でない({self.age}才)\")\n",
        "\n",
        "people = [\n",
        "    Human(\"哲也\", 25),\n",
        "    Human(\"哲平\", 18),\n",
        "    Human(\"康二\", 48),\n",
        "    Human(\"大也\", 3),\n",
        "    Human(\"吾郎\", 88)\n",
        "]\n",
        "\n",
        "for person in people:\n",
        "    person.check_adult()"
      ],
      "metadata": {
        "colab": {
          "base_uri": "https://localhost:8080/"
        },
        "id": "zeFc1fWXVXon",
        "outputId": "5f900814-75a0-46d5-e070-1a45896f5e1d"
      },
      "execution_count": 10,
      "outputs": [
        {
          "output_type": "stream",
          "name": "stdout",
          "text": [
            "哲也は大人である(25才)\n",
            "哲平は大人でない(18才)\n",
            "康二は大人である(48才)\n",
            "大也は大人でない(3才)\n",
            "吾郎は大人である(88才)\n"
          ]
        }
      ]
    }
  ]
}