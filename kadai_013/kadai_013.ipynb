{
  "nbformat": 4,
  "nbformat_minor": 0,
  "metadata": {
    "colab": {
      "provenance": [],
      "gpuType": "T4"
    },
    "kernelspec": {
      "name": "python3",
      "display_name": "Python 3"
    },
    "language_info": {
      "name": "python"
    },
    "accelerator": "GPU"
  },
  "cells": [
    {
      "cell_type": "code",
      "source": [
        "def calculate_tax(price: float, tax_rate: float) -> float:\n",
        "  total_price = price * (1 + tax_rate / 100)\n",
        "  return total_price\n",
        "\n",
        "result = calculate_tax(110, 10)\n",
        "print(f\"税込金額は{result}円です。\")"
      ],
      "metadata": {
        "colab": {
          "base_uri": "https://localhost:8080/"
        },
        "id": "fAHqhOwkyVvi",
        "outputId": "f2ca0fa1-728a-487a-bdad-a4468f3fbb69"
      },
      "execution_count": 1,
      "outputs": [
        {
          "output_type": "stream",
          "name": "stdout",
          "text": [
            "税込金額は121.00000000000001円です。\n"
          ]
        }
      ]
    }
  ]
}